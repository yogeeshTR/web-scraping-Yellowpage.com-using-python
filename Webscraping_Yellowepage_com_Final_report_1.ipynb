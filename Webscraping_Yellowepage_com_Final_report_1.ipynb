{
 "cells": [
  {
   "cell_type": "markdown",
   "metadata": {
    "id": "rgD_92RyYdx0"
   },
   "source": [
    "# **Scraping the Yellowpages.com Using Beautiul Soup And Python...**\n",
    "\n",
    " ##### Extracting the **New York Restaurants** details from website [Yellowpages.com](https://www.yellowpages.com)\n",
    "\n",
    "\n",
    "![](https://i.imgur.com/YRU4ats.gif)\n",
    "\n"
   ]
  },
  {
   "cell_type": "markdown",
   "metadata": {
    "id": "TmKUdfvHiXqB"
   },
   "source": [
    "# **Introduction**\n",
    "   There is a vast amount of data available on the internet, most of it is in the unstructured format those data cannot be used directly to build a model .So industries find a way to extract meaningful information from unstructured data. This is where web scraping comes into the picture.\n",
    "\n",
    "**What is yellowpages.com?**\n",
    "\n",
    "\n",
    "[Yellowpages.com](https://www.yellowpages.com) is a United States-based web site operated by Thryv that provides listings for local businesses. In 2013, it was re-branded as YP.com or simply \"YP\". It currently offers a broad range of marketing tools including online presence, local search, display ads and direct marketing.\n",
    "\n",
    "\n",
    "\n",
    "\n",
    "\n",
    "\n",
    "\n",
    "\n",
    "\n",
    "\n",
    "\n",
    "\n",
    "***What is Webscraping ?***\n",
    "\n",
    "Web Scraping is an automatic way to retrieve unstructured data from a website and store them in a structured format. \n",
    "\n",
    "For example, if you want to analyze what kind of restaurant can success in New York, you may want to scrape all the New York resturant information on an website like Yellowpages.com and amy more websites\n",
    "\n",
    "![](https://i.imgur.com/oVEZuFO.jpg)\n"
   ]
  },
  {
   "cell_type": "markdown",
   "metadata": {
    "id": "lFT4L-IjeZWl"
   },
   "source": [
    "##  **How ro run the code**\n",
    "\n",
    "You can execute the code using \"Run\" button on the top of this page and selecting \"Run on Colab\" or \"Run Locally\"\n",
    "\n",
    "**Setup and Tools**\n",
    "\n",
    "**Run on Colab :** You will need to provide the Google login to run this notebook on Colab.\n",
    "\n",
    "**Run Locally :** Download and install Anaconda framework, We will be using Jupyter Notebook for writing & executing code.\n",
    "\n",
    "\n",
    "# **Motivation for the project**\n",
    "Now a days Rasturant business is one of the fastest-growing business in the world. It is expected to reach INR 5.99 lakh crore by 2022-23, growing at a compounded annual growth rate of 9 percent.\n",
    "Restaurants from all over the world can be found here in NewYork,we can get all type of cuisines here. The number of restaurant are increasing day by day. Currently which stands at approximately 26,000 restaurants.\n",
    "\n",
    "This industry hasn't been saturated yet, And new restaurants are opening every day. However it has become difficult for them to compete with already established restaurants. \n",
    "This YelloPages datset aims at analysing demography of the location. Most importantly it will help new restaurants in deciding their theme, menus, cuisine, etc for a particular location. It also aims at finding similarity between neighborhoods of Bengaluru on the basis of food.\n",
    "\n",
    "\n",
    "![](https://i.imgur.com/FwqTbT6.jpg)\n"
   ]
  },
  {
   "cell_type": "markdown",
   "metadata": {
    "id": "_CipwCuS6Zst"
   },
   "source": [
    "##  **Outline of the Project**\n",
    "In this project we created more than 10 reusable functins and 3 main function .The steps we followed in this project is as bellow.\n",
    "\n",
    ">** Step:-1 ** Select the suitable page_url and Install the required Python libraries.\n",
    "\n",
    "> **Step:-2** Assign that page to BeautifulSoup library from request to parse the html page and convert them into html doc format to scraope the information.\n",
    "\n",
    ">**Step:-3 **select the suitable tag which contains required informations.\n",
    "\n",
    ">**Step:-4** creating the reusable Functions from parsed htnl doc.Here we extracted the information in two parts,\n",
    "\n",
    "For part-1 tags are parsed from main url pages they are ,\n",
    "  1.  get_name(doc)\n",
    "  2.  get_Phone(doc)\n",
    "  3.  get_address(doc)\n",
    "  4.  get_online(doc)\n",
    "  5. get_info_web(doc)\n",
    "\n",
    "Part-2 below tags are extracted from each hotel info_web tag urls \n",
    "   6. get_Cuisine(doc1)\n",
    "   7. get_payment(doc1)\n",
    "   8. get_neighborhoods(doc1)\n",
    "\n",
    "\n",
    "\n",
    "\n",
    "\n",
    "> **Step:-5** create a reusable function  which returns list of urls to extract tags from multiple pages\n",
    "\n",
    "> **Step:6**  Create main function as **get_main_page_tags()**  which loop over the multiple pages and get each part-1 tags ,get information and return them in the data frame format.And assign that function as **df_1**\n",
    "\n",
    "> **Step:-7** cretae one more main function as **get_individual_page_tags()** to loop over the each part-2 tags and return them in datarame format.And assign that function as **df_2**\n",
    "\n",
    "> **Step:-8** create final main function as **scrape_yellowpages()** to merge all tags exrtacted  from above two main functions return them in csv format\n",
    "\n",
    "Finally commit the project and updating scraped data in csv format to  jovian"
   ]
  },
  {
   "cell_type": "markdown",
   "metadata": {
    "id": "sRwCP8jNCzbm"
   },
   "source": [
    "# **Step:-1  Select the suitable page_url and Install the required Python libraries**"
   ]
  },
  {
   "cell_type": "code",
   "execution_count": 2,
   "metadata": {
    "colab": {
     "base_uri": "https://localhost:8080/"
    },
    "executionInfo": {
     "elapsed": 11605,
     "status": "ok",
     "timestamp": 1658221027557,
     "user": {
      "displayName": "yogeesh tr",
      "userId": "16969771181989430751"
     },
     "user_tz": -330
    },
    "id": "n0CWUImrEWbH",
    "outputId": "931e511c-6612-4eee-a894-52334a08af67"
   },
   "outputs": [
    {
     "name": "stdout",
     "output_type": "stream",
     "text": [
      "\n",
      "Usage:   \n",
      "  pip3 install [options] <requirement specifier> [package-index-options] ...\n",
      "  pip3 install [options] -r <requirements file> [package-index-options] ...\n",
      "  pip3 install [options] [-e] <vcs project url> ...\n",
      "  pip3 install [options] [-e] <local project path> ...\n",
      "  pip3 install [options] <archive url/path> ...\n",
      "\n",
      "no such option: -u\n"
     ]
    }
   ],
   "source": [
    "# installing required libreries\n",
    "! pip install requests --upgrade --quiet\n",
    "! pip install beautifulsoup4 --upgrade --quiet\n",
    "! pip install pandas --upgrade -quiet\n",
    "\n",
    "\n",
    "import requests\n",
    "from bs4 import BeautifulSoup\n",
    "import pandas as pd\n",
    "import time\n",
    "import random"
   ]
  },
  {
   "cell_type": "markdown",
   "metadata": {
    "id": "AJSWQ_5NEKtf"
   },
   "source": [
    "![](https://i.imgur.com/Rnju1SY.png)"
   ]
  },
  {
   "cell_type": "code",
   "execution_count": 3,
   "metadata": {
    "executionInfo": {
     "elapsed": 26,
     "status": "ok",
     "timestamp": 1658221027559,
     "user": {
      "displayName": "yogeesh tr",
      "userId": "16969771181989430751"
     },
     "user_tz": -330
    },
    "id": "H976HScYEI_S"
   },
   "outputs": [],
   "source": [
    "# selecting the suitable page_url  as hsoen in above\n",
    "topic_url = \"https://www.yellowpages.com/search?search_terms=restaurants&geo_location_terms=New+York%2C+NY\""
   ]
  },
  {
   "cell_type": "code",
   "execution_count": 4,
   "metadata": {
    "colab": {
     "base_uri": "https://localhost:8080/"
    },
    "executionInfo": {
     "elapsed": 1450,
     "status": "ok",
     "timestamp": 1658221028991,
     "user": {
      "displayName": "yogeesh tr",
      "userId": "16969771181989430751"
     },
     "user_tz": -330
    },
    "id": "SG5EjRQ7VPLd",
    "outputId": "d51c0633-818d-4b1e-e2d9-24652de02f0e"
   },
   "outputs": [
    {
     "data": {
      "text/plain": [
       "200"
      ]
     },
     "execution_count": 4,
     "metadata": {},
     "output_type": "execute_result"
    }
   ],
   "source": [
    "# check the responce status of selected website url\n",
    "response = requests.get(topic_url)\n",
    "response.status_code"
   ]
  },
  {
   "cell_type": "markdown",
   "metadata": {
    "id": "pt2ex23AVqXj"
   },
   "source": [
    "Here we use __requests.get()__ function for getting responce from the topic uls . If the responce code is **between 200 to 299** .\n",
    "it will allowe you to parse the information, Check the meaning of diffarent values or respone code [**here**](https://www.codementor.io/blog/python-web-scraping-63l2v9sf2q)"
   ]
  },
  {
   "cell_type": "markdown",
   "metadata": {
    "id": "do8FYjpmWHRN"
   },
   "source": [
    "# **Step:-2 Assign that page to BeautifulSoup library from request to parse the html page and convert them into html doc format to scraope the information.** "
   ]
  },
  {
   "cell_type": "code",
   "execution_count": 5,
   "metadata": {
    "executionInfo": {
     "elapsed": 744,
     "status": "ok",
     "timestamp": 1658221029723,
     "user": {
      "displayName": "yogeesh tr",
      "userId": "16969771181989430751"
     },
     "user_tz": -330
    },
    "id": "beRJl2G2VPW-"
   },
   "outputs": [],
   "source": [
    "\n",
    "page_contents = response.text\n",
    "\n",
    "# assign the page content into beautifulSoup librery .\n",
    "doc = BeautifulSoup(page_contents,'html.parser')\n",
    "#doc"
   ]
  },
  {
   "cell_type": "markdown",
   "metadata": {
    "id": "DJFJnhOdWvfG"
   },
   "source": [
    "# **Step:-3 select the suitable tag which contains required informations.**\n",
    "\n",
    "![](https://i.imgur.com/VTtpyn7.png)\n",
    "\n",
    "Here the \"div\" tag with attribute class_=\"result\" contain all the requried detile from each tags we have to scrape requird details "
   ]
  },
  {
   "cell_type": "code",
   "execution_count": 6,
   "metadata": {
    "executionInfo": {
     "elapsed": 47,
     "status": "ok",
     "timestamp": 1658221029724,
     "user": {
      "displayName": "yogeesh tr",
      "userId": "16969771181989430751"
     },
     "user_tz": -330
    },
    "id": "grStSI-xWYfU"
   },
   "outputs": [],
   "source": [
    "# selcting the suitable tag\n",
    "tags=doc.find_all(\"div\", class_= \"result\")\n",
    "#tags\n",
    "#len(tags)      # can check the length of the total tags in a page"
   ]
  },
  {
   "cell_type": "markdown",
   "metadata": {
    "id": "maE1mGp_WuiV"
   },
   "source": [
    "#  **Step:-4  Select the suitable page_url and Install the required Python libraries.**\n",
    "\n",
    "For part-1 tags are parsed from main url pagethey are ,"
   ]
  },
  {
   "cell_type": "code",
   "execution_count": 7,
   "metadata": {
    "executionInfo": {
     "elapsed": 45,
     "status": "ok",
     "timestamp": 1658221029725,
     "user": {
      "displayName": "yogeesh tr",
      "userId": "16969771181989430751"
     },
     "user_tz": -330
    },
    "id": "DkfjV9y6aMob"
   },
   "outputs": [],
   "source": [
    "# Extracting the Name of the hotels\n",
    "\n",
    "def get_name(doc):\n",
    "  doc1 = doc\n",
    "  tags=doc1.find_all(\"div\", class_= \"result\")\n",
    "  Name = []\n",
    "  for tag in tags:\n",
    "      name = tag.find(\"a\",class_=\"business-name\").text\n",
    "      Name.append(name)\n",
    "  return Name\n",
    "\n",
    "#get_name(doc)"
   ]
  },
  {
   "cell_type": "markdown",
   "metadata": {
    "id": "qE3HY8Jnd-QD"
   },
   "source": [
    "![ZaA96Mw - Imgur.png](data:image/png;base64,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)\n",
    "\n",
    "As shown above inspect the each tags from the html tags to scrape "
   ]
  },
  {
   "cell_type": "code",
   "execution_count": 8,
   "metadata": {
    "executionInfo": {
     "elapsed": 41,
     "status": "ok",
     "timestamp": 1658221029727,
     "user": {
      "displayName": "yogeesh tr",
      "userId": "16969771181989430751"
     },
     "user_tz": -330
    },
    "id": "znfHdHvvdkoU"
   },
   "outputs": [],
   "source": [
    "#Extracting the phone number\n",
    "def get_Phone(doc):\n",
    "  Phone_num = []\n",
    "  doc1 = doc\n",
    "  tags=doc1.find_all(\"div\", class_= \"result\")\n",
    "  for tag in tags:\n",
    "      Phone = tag.find(\"div\",class_=\"phones phone primary\").text\n",
    "      Phone_num.append(Phone)\n",
    "  return Phone_num\n",
    "\n",
    "#get_Phone(doc)\n"
   ]
  },
  {
   "cell_type": "code",
   "execution_count": 9,
   "metadata": {
    "executionInfo": {
     "elapsed": 39,
     "status": "ok",
     "timestamp": 1658221029728,
     "user": {
      "displayName": "yogeesh tr",
      "userId": "16969771181989430751"
     },
     "user_tz": -330
    },
    "id": "LDQZhBPPEhOm"
   },
   "outputs": [],
   "source": [
    "#Extracting the Address\n",
    "def get_address(doc):\n",
    "    Locality = []\n",
    "    Pincode = []\n",
    "    doc1 = doc\n",
    "    tags=doc1.find_all(\"div\", class_= \"result\")\n",
    "\n",
    "    for tag in tags:\n",
    "        address= tag.find(\"div\",class_=\"adr\").text\n",
    "        sep = ','\n",
    "        local = address.split(sep, 1)[0]\n",
    "        Postal = address.split(sep,1)[1]\n",
    "        Locality.append(local)    \n",
    "        Pincode.append(Postal)\n",
    "    return Locality,Pincode\n",
    "\n",
    "#get_address(doc)"
   ]
  },
  {
   "cell_type": "code",
   "execution_count": 10,
   "metadata": {
    "executionInfo": {
     "elapsed": 33,
     "status": "ok",
     "timestamp": 1658221029729,
     "user": {
      "displayName": "yogeesh tr",
      "userId": "16969771181989430751"
     },
     "user_tz": -330
    },
    "id": "qAKfLLMTEhRO"
   },
   "outputs": [],
   "source": [
    "#Extracting the Online_Orders \n",
    "def get_online(doc):\n",
    "    Online_order =[]\n",
    "    doc1 = doc\n",
    "    tags=doc1.find_all(\"div\", class_= \"result\")\n",
    "\n",
    "    for tag in tags:\n",
    "        try:\n",
    "            online = tag.find(\"a\",class_=\"action order-online\").text\n",
    "            Online_order.append(online)\n",
    "        except Exception:\n",
    "            online = \"\"\n",
    "            Online_order.append(online)\n",
    "    return Online_order\n",
    "\n",
    "#get_online(doc)"
   ]
  },
  {
   "cell_type": "code",
   "execution_count": 11,
   "metadata": {
    "executionInfo": {
     "elapsed": 31,
     "status": "ok",
     "timestamp": 1658221029730,
     "user": {
      "displayName": "yogeesh tr",
      "userId": "16969771181989430751"
     },
     "user_tz": -330
    },
    "id": "QNehkWISEynt"
   },
   "outputs": [],
   "source": [
    "#Extracting the individual hotel urls \n",
    "def get_info_web(doc):\n",
    "    info_website = []\n",
    "    base_url = \"https://www.yellowpages.com\"\n",
    "\n",
    "    doc1 = doc\n",
    "    tags=doc1.find_all(\"div\", class_= \"result\")\n",
    "\n",
    "\n",
    "    for tag in tags:\n",
    "        try:\n",
    "            url_info = tag.find(\"a\",class_=\"business-name\")[\"href\"]\n",
    "            info_website.append(base_url + url_info)\n",
    "        except Exception:\n",
    "            url_info = \"\"\n",
    "            info_website.append(base_url + url_info)\n",
    "    return info_website\n",
    "\n",
    "#get_info_web(doc)"
   ]
  },
  {
   "cell_type": "markdown",
   "metadata": {
    "id": "8NlQCCttGd-z"
   },
   "source": [
    "## **Create the reusable functions for to create BeautifulSoup doc**"
   ]
  },
  {
   "cell_type": "code",
   "execution_count": 12,
   "metadata": {
    "executionInfo": {
     "elapsed": 30,
     "status": "ok",
     "timestamp": 1658221029732,
     "user": {
      "displayName": "yogeesh tr",
      "userId": "16969771181989430751"
     },
     "user_tz": -330
    },
    "id": "WkSPWCFYGKH7"
   },
   "outputs": [],
   "source": [
    "# creating the user function for to get response from the url\n",
    "def get_url_doc(url):\n",
    "\n",
    "#getting resonse from the url\n",
    "    response = requests.get(url)\n",
    "    if response.status_code != 200:          # check the response status code value is equal or not to 200\n",
    "        raise Exception('Failed to load page {}'.format(url))  # raise exception with url incase it not match the status code value\n",
    "    Hotel_doc = BeautifulSoup(response.text,'html.parser')   \n",
    "    \n",
    "    return Hotel_doc              # return the function with soup document format"
   ]
  },
  {
   "cell_type": "markdown",
   "metadata": {
    "id": "ZjQTLm1vFGpe"
   },
   "source": [
    "## **Part-2 below tags are extracted from each hotel info_web tag urls**\n",
    "\n",
    "in second part we extract the tags from each hotels urls which was extracted in get_info_web() function .from each individual urls.extracted tags are s below"
   ]
  },
  {
   "cell_type": "code",
   "execution_count": 13,
   "metadata": {
    "executionInfo": {
     "elapsed": 2926,
     "status": "ok",
     "timestamp": 1658221032629,
     "user": {
      "displayName": "yogeesh tr",
      "userId": "16969771181989430751"
     },
     "user_tz": -330
    },
    "id": "8OmpafhAEyvr"
   },
   "outputs": [],
   "source": [
    "# Get tags from each info_web \n",
    "doc2  = get_url_doc(get_info_web(doc)[0])\n",
    "#doc2        # here we send only one first individuals urls"
   ]
  },
  {
   "cell_type": "code",
   "execution_count": 14,
   "metadata": {
    "executionInfo": {
     "elapsed": 33,
     "status": "ok",
     "timestamp": 1658221032630,
     "user": {
      "displayName": "yogeesh tr",
      "userId": "16969771181989430751"
     },
     "user_tz": -330
    },
    "id": "8TskR9gIEy2x"
   },
   "outputs": [],
   "source": [
    "# Extract the cusisne tags from each get_info_web(doc) urls\n",
    "\n",
    "def get_Cuisine(doc2):\n",
    "    Cuisine = []\n",
    "    \n",
    "    try:\n",
    "        Cuisine.append(doc2.find(\"dd\",class_=\"categories\").text)\n",
    "    except Exception:\n",
    "        Cuisine.append(\"\")\n",
    "    return Cuisine\n",
    "\n",
    "#get_Cuisine(doc2)"
   ]
  },
  {
   "cell_type": "code",
   "execution_count": 15,
   "metadata": {
    "executionInfo": {
     "elapsed": 31,
     "status": "ok",
     "timestamp": 1658221032632,
     "user": {
      "displayName": "yogeesh tr",
      "userId": "16969771181989430751"
     },
     "user_tz": -330
    },
    "id": "d43hmFzAHqH-"
   },
   "outputs": [],
   "source": [
    "# Extract the payment type tags from each get_info_web(doc) urls\n",
    "def get_payment(doc2):\n",
    "    Payment = []\n",
    "    try:\n",
    "        Payment.append(doc2.find(\"dd\",class_=\"payment\").text)\n",
    "    except Exception:\n",
    "        Payment.append(\"\")\n",
    "    return Payment\n",
    "\n",
    "#get_payment(doc2)"
   ]
  },
  {
   "cell_type": "code",
   "execution_count": 16,
   "metadata": {
    "executionInfo": {
     "elapsed": 25,
     "status": "ok",
     "timestamp": 1658221032633,
     "user": {
      "displayName": "yogeesh tr",
      "userId": "16969771181989430751"
     },
     "user_tz": -330
    },
    "id": "WiOZ9TJsHqGI"
   },
   "outputs": [],
   "source": [
    "# Extract the Neighborhoods tags from each get_info_web(doc) urls\n",
    "def get_neighborhoods(doc2):\n",
    "    Neighborhoods =[]\n",
    "    try:\n",
    "        Neighborhoods.append(doc2.find(\"dd\",class_=\"neighborhoods\").text)\n",
    "        \n",
    "    except Exception:\n",
    "        Neighborhoods.append(\" \")\n",
    "    return Neighborhoods\n",
    "  \n",
    "#get_neighborhoods(doc2)"
   ]
  },
  {
   "cell_type": "markdown",
   "metadata": {
    "id": "UllqUogSI0Xf"
   },
   "source": [
    "# **Step:5 Create a reusable function  which returns list of urls.**"
   ]
  },
  {
   "cell_type": "code",
   "execution_count": 17,
   "metadata": {
    "executionInfo": {
     "elapsed": 23,
     "status": "ok",
     "timestamp": 1658221032634,
     "user": {
      "displayName": "yogeesh tr",
      "userId": "16969771181989430751"
     },
     "user_tz": -330
    },
    "id": "DHaCJN7YHqAS"
   },
   "outputs": [],
   "source": [
    "# to generate list of urls which helps to scrape from multiple pages\n",
    "def get_url_list(topic_url):\n",
    "    urls = []\n",
    "    \n",
    "    for i in range(5):  # here am  given the opage range from 0 to 4 pages we can custamize th erange\n",
    "        pages =topic_url+str(\"&page=\")+str(i+1)\n",
    "            #url.append(pages)\n",
    "        urls.append(pages)\n",
    "    return urls\n",
    "\n",
    "#get_url_list(topic_url)"
   ]
  },
  {
   "cell_type": "markdown",
   "metadata": {
    "id": "gmFyDjpJLjoA"
   },
   "source": [
    "# **Step:-6  Create main function as *get_main_page_tags()* which loop over the multiple pages and get each part-1 tags ,get information and return them in the data frame format**\n",
    "  "
   ]
  },
  {
   "cell_type": "code",
   "execution_count": 18,
   "metadata": {
    "executionInfo": {
     "elapsed": 25,
     "status": "ok",
     "timestamp": 1658221032638,
     "user": {
      "displayName": "yogeesh tr",
      "userId": "16969771181989430751"
     },
     "user_tz": -330
    },
    "id": "05gbFmhBMR9N"
   },
   "outputs": [],
   "source": [
    "def get_main_page_tags(): \n",
    "   url = get_url_list(topic_url)  \n",
    "\n",
    "   Name_tag= []\n",
    "   phone_tag = []\n",
    "   Address_tag = []\n",
    "   Pincode_tag = []\n",
    "   Online_order_tag =[]\n",
    "   Info_website_tag =[]\n",
    "# looping over each tag\n",
    "\n",
    "   for topic_url1 in url:\n",
    "        doc = get_url_doc(topic_url1)\n",
    "        Name_tag.extend(get_name(doc))\n",
    "        phone_tag.extend(get_Phone(doc))\n",
    "        Address_tag.extend(get_address(doc)[0])\n",
    "        Pincode_tag.extend(get_address(doc)[1])\n",
    "        Online_order_tag.extend(get_online(doc))\n",
    "        Info_website_tag.extend(get_info_web(doc))\n",
    "   time.sleep(random.randint(5,16))    #Script will be stopped for a period of time ranging from 5 to 16 seconds.\n",
    "\n",
    "  # convert list of tags into dictionary   \n",
    "   dict_ = {\"Hotel_Name\":Name_tag, \"Phone_Num\":phone_tag ,\"Address\": Address_tag,\n",
    "            \"Pincode\":Pincode_tag,\"Online_orders\":Online_order_tag ,\"Hotel_url\":Info_website_tag }  # create the dictionary from extracted tags \n",
    "    \n",
    "   df1_tags = pd.DataFrame(dict_)  # convert the the dictionary values into pandas datframe\n",
    "   return df1_tags\n",
    "   \n",
    "#get_main_page_tags()"
   ]
  },
  {
   "cell_type": "code",
   "execution_count": 19,
   "metadata": {
    "executionInfo": {
     "elapsed": 30700,
     "status": "ok",
     "timestamp": 1658221063317,
     "user": {
      "displayName": "yogeesh tr",
      "userId": "16969771181989430751"
     },
     "user_tz": -330
    },
    "id": "vK4kxeO7ltE5"
   },
   "outputs": [],
   "source": [
    "# assign the functon to variable as df_1\n",
    "df_1 = get_main_page_tags()"
   ]
  },
  {
   "cell_type": "code",
   "execution_count": 20,
   "metadata": {
    "colab": {
     "base_uri": "https://localhost:8080/",
     "height": 423
    },
    "executionInfo": {
     "elapsed": 70,
     "status": "ok",
     "timestamp": 1658221063318,
     "user": {
      "displayName": "yogeesh tr",
      "userId": "16969771181989430751"
     },
     "user_tz": -330
    },
    "id": "-wZ_BAMPl2K1",
    "outputId": "a147b15a-7b15-4d03-90c2-34e417ddea57"
   },
   "outputs": [
    {
     "data": {
      "text/html": [
       "\n",
       "  <div id=\"df-43456e8c-9a48-4830-a743-b7f6da9c8234\">\n",
       "    <div class=\"colab-df-container\">\n",
       "      <div>\n",
       "<style scoped>\n",
       "    .dataframe tbody tr th:only-of-type {\n",
       "        vertical-align: middle;\n",
       "    }\n",
       "\n",
       "    .dataframe tbody tr th {\n",
       "        vertical-align: top;\n",
       "    }\n",
       "\n",
       "    .dataframe thead th {\n",
       "        text-align: right;\n",
       "    }\n",
       "</style>\n",
       "<table border=\"1\" class=\"dataframe\">\n",
       "  <thead>\n",
       "    <tr style=\"text-align: right;\">\n",
       "      <th></th>\n",
       "      <th>Hotel_Name</th>\n",
       "      <th>Phone_Num</th>\n",
       "      <th>Address</th>\n",
       "      <th>Pincode</th>\n",
       "      <th>Online_orders</th>\n",
       "      <th>Hotel_url</th>\n",
       "    </tr>\n",
       "  </thead>\n",
       "  <tbody>\n",
       "    <tr>\n",
       "      <th>0</th>\n",
       "      <td>Mr. K's</td>\n",
       "      <td>(212) 583-1668</td>\n",
       "      <td>570 Lexington AveNew York</td>\n",
       "      <td>NY 10022</td>\n",
       "      <td>Order Online</td>\n",
       "      <td>https://www.yellowpages.com/new-york-ny/mip/mr...</td>\n",
       "    </tr>\n",
       "    <tr>\n",
       "      <th>1</th>\n",
       "      <td>Seven's Turkish Grill</td>\n",
       "      <td>(212) 724-4700</td>\n",
       "      <td>158 W 72nd StNew York</td>\n",
       "      <td>NY 10023</td>\n",
       "      <td></td>\n",
       "      <td>https://www.yellowpages.com/new-york-ny/mip/se...</td>\n",
       "    </tr>\n",
       "    <tr>\n",
       "      <th>2</th>\n",
       "      <td>Todaro Brothers</td>\n",
       "      <td>(212) 532-0633</td>\n",
       "      <td>555 2nd AveNew York</td>\n",
       "      <td>NY 10016</td>\n",
       "      <td>Order Online</td>\n",
       "      <td>https://www.yellowpages.com/new-york-ny/mip/to...</td>\n",
       "    </tr>\n",
       "    <tr>\n",
       "      <th>3</th>\n",
       "      <td>Babbo</td>\n",
       "      <td>(212) 777-0303</td>\n",
       "      <td>110 Waverly PlNew York</td>\n",
       "      <td>NY 10011</td>\n",
       "      <td>Order Online</td>\n",
       "      <td>https://www.yellowpages.com/new-york-ny/mip/ba...</td>\n",
       "    </tr>\n",
       "    <tr>\n",
       "      <th>4</th>\n",
       "      <td>Sparks Steak House</td>\n",
       "      <td>(212) 687-4855</td>\n",
       "      <td>210 E 46th StNew York</td>\n",
       "      <td>NY 10017</td>\n",
       "      <td>Order Online</td>\n",
       "      <td>https://www.yellowpages.com/new-york-ny/mip/sp...</td>\n",
       "    </tr>\n",
       "    <tr>\n",
       "      <th>...</th>\n",
       "      <td>...</td>\n",
       "      <td>...</td>\n",
       "      <td>...</td>\n",
       "      <td>...</td>\n",
       "      <td>...</td>\n",
       "      <td>...</td>\n",
       "    </tr>\n",
       "    <tr>\n",
       "      <th>145</th>\n",
       "      <td>Cowgirl Seahorse</td>\n",
       "      <td>(212) 608-7873</td>\n",
       "      <td>259 Front StNew York</td>\n",
       "      <td>NY 10038</td>\n",
       "      <td>Order Online</td>\n",
       "      <td>https://www.yellowpages.com/new-york-ny/mip/co...</td>\n",
       "    </tr>\n",
       "    <tr>\n",
       "      <th>146</th>\n",
       "      <td>Rye House</td>\n",
       "      <td>(212) 255-7260</td>\n",
       "      <td>11 W 17th StNew York</td>\n",
       "      <td>NY 10011</td>\n",
       "      <td></td>\n",
       "      <td>https://www.yellowpages.com/new-york-ny/mip/ry...</td>\n",
       "    </tr>\n",
       "    <tr>\n",
       "      <th>147</th>\n",
       "      <td>John's of 12th Street</td>\n",
       "      <td>(212) 475-9531</td>\n",
       "      <td>302 E 12th StNew York</td>\n",
       "      <td>NY 10003</td>\n",
       "      <td>Order Online</td>\n",
       "      <td>https://www.yellowpages.com/new-york-ny/mip/jo...</td>\n",
       "    </tr>\n",
       "    <tr>\n",
       "      <th>148</th>\n",
       "      <td>Burger &amp; Barrel</td>\n",
       "      <td>(212) 334-7320</td>\n",
       "      <td>25 W Houston StNew York</td>\n",
       "      <td>NY 10012</td>\n",
       "      <td></td>\n",
       "      <td>https://www.yellowpages.com/new-york-ny/mip/bu...</td>\n",
       "    </tr>\n",
       "    <tr>\n",
       "      <th>149</th>\n",
       "      <td>Cosi</td>\n",
       "      <td>(212) 260-1507</td>\n",
       "      <td>53 E 8th StNew York</td>\n",
       "      <td>NY 10003</td>\n",
       "      <td></td>\n",
       "      <td>https://www.yellowpages.com/new-york-ny/mip/co...</td>\n",
       "    </tr>\n",
       "  </tbody>\n",
       "</table>\n",
       "<p>150 rows × 6 columns</p>\n",
       "</div>\n",
       "      <button class=\"colab-df-convert\" onclick=\"convertToInteractive('df-43456e8c-9a48-4830-a743-b7f6da9c8234')\"\n",
       "              title=\"Convert this dataframe to an interactive table.\"\n",
       "              style=\"display:none;\">\n",
       "        \n",
       "  <svg xmlns=\"http://www.w3.org/2000/svg\" height=\"24px\"viewBox=\"0 0 24 24\"\n",
       "       width=\"24px\">\n",
       "    <path d=\"M0 0h24v24H0V0z\" fill=\"none\"/>\n",
       "    <path d=\"M18.56 5.44l.94 2.06.94-2.06 2.06-.94-2.06-.94-.94-2.06-.94 2.06-2.06.94zm-11 1L8.5 8.5l.94-2.06 2.06-.94-2.06-.94L8.5 2.5l-.94 2.06-2.06.94zm10 10l.94 2.06.94-2.06 2.06-.94-2.06-.94-.94-2.06-.94 2.06-2.06.94z\"/><path d=\"M17.41 7.96l-1.37-1.37c-.4-.4-.92-.59-1.43-.59-.52 0-1.04.2-1.43.59L10.3 9.45l-7.72 7.72c-.78.78-.78 2.05 0 2.83L4 21.41c.39.39.9.59 1.41.59.51 0 1.02-.2 1.41-.59l7.78-7.78 2.81-2.81c.8-.78.8-2.07 0-2.86zM5.41 20L4 18.59l7.72-7.72 1.47 1.35L5.41 20z\"/>\n",
       "  </svg>\n",
       "      </button>\n",
       "      \n",
       "  <style>\n",
       "    .colab-df-container {\n",
       "      display:flex;\n",
       "      flex-wrap:wrap;\n",
       "      gap: 12px;\n",
       "    }\n",
       "\n",
       "    .colab-df-convert {\n",
       "      background-color: #E8F0FE;\n",
       "      border: none;\n",
       "      border-radius: 50%;\n",
       "      cursor: pointer;\n",
       "      display: none;\n",
       "      fill: #1967D2;\n",
       "      height: 32px;\n",
       "      padding: 0 0 0 0;\n",
       "      width: 32px;\n",
       "    }\n",
       "\n",
       "    .colab-df-convert:hover {\n",
       "      background-color: #E2EBFA;\n",
       "      box-shadow: 0px 1px 2px rgba(60, 64, 67, 0.3), 0px 1px 3px 1px rgba(60, 64, 67, 0.15);\n",
       "      fill: #174EA6;\n",
       "    }\n",
       "\n",
       "    [theme=dark] .colab-df-convert {\n",
       "      background-color: #3B4455;\n",
       "      fill: #D2E3FC;\n",
       "    }\n",
       "\n",
       "    [theme=dark] .colab-df-convert:hover {\n",
       "      background-color: #434B5C;\n",
       "      box-shadow: 0px 1px 3px 1px rgba(0, 0, 0, 0.15);\n",
       "      filter: drop-shadow(0px 1px 2px rgba(0, 0, 0, 0.3));\n",
       "      fill: #FFFFFF;\n",
       "    }\n",
       "  </style>\n",
       "\n",
       "      <script>\n",
       "        const buttonEl =\n",
       "          document.querySelector('#df-43456e8c-9a48-4830-a743-b7f6da9c8234 button.colab-df-convert');\n",
       "        buttonEl.style.display =\n",
       "          google.colab.kernel.accessAllowed ? 'block' : 'none';\n",
       "\n",
       "        async function convertToInteractive(key) {\n",
       "          const element = document.querySelector('#df-43456e8c-9a48-4830-a743-b7f6da9c8234');\n",
       "          const dataTable =\n",
       "            await google.colab.kernel.invokeFunction('convertToInteractive',\n",
       "                                                     [key], {});\n",
       "          if (!dataTable) return;\n",
       "\n",
       "          const docLinkHtml = 'Like what you see? Visit the ' +\n",
       "            '<a target=\"_blank\" href=https://colab.research.google.com/notebooks/data_table.ipynb>data table notebook</a>'\n",
       "            + ' to learn more about interactive tables.';\n",
       "          element.innerHTML = '';\n",
       "          dataTable['output_type'] = 'display_data';\n",
       "          await google.colab.output.renderOutput(dataTable, element);\n",
       "          const docLink = document.createElement('div');\n",
       "          docLink.innerHTML = docLinkHtml;\n",
       "          element.appendChild(docLink);\n",
       "        }\n",
       "      </script>\n",
       "    </div>\n",
       "  </div>\n",
       "  "
      ],
      "text/plain": [
       "                Hotel_Name       Phone_Num                    Address  \\\n",
       "0                  Mr. K's  (212) 583-1668  570 Lexington AveNew York   \n",
       "1    Seven's Turkish Grill  (212) 724-4700      158 W 72nd StNew York   \n",
       "2          Todaro Brothers  (212) 532-0633        555 2nd AveNew York   \n",
       "3                    Babbo  (212) 777-0303     110 Waverly PlNew York   \n",
       "4       Sparks Steak House  (212) 687-4855      210 E 46th StNew York   \n",
       "..                     ...             ...                        ...   \n",
       "145       Cowgirl Seahorse  (212) 608-7873       259 Front StNew York   \n",
       "146              Rye House  (212) 255-7260       11 W 17th StNew York   \n",
       "147  John's of 12th Street  (212) 475-9531      302 E 12th StNew York   \n",
       "148        Burger & Barrel  (212) 334-7320    25 W Houston StNew York   \n",
       "149                   Cosi  (212) 260-1507        53 E 8th StNew York   \n",
       "\n",
       "       Pincode Online_orders  \\\n",
       "0     NY 10022  Order Online   \n",
       "1     NY 10023                 \n",
       "2     NY 10016  Order Online   \n",
       "3     NY 10011  Order Online   \n",
       "4     NY 10017  Order Online   \n",
       "..         ...           ...   \n",
       "145   NY 10038  Order Online   \n",
       "146   NY 10011                 \n",
       "147   NY 10003  Order Online   \n",
       "148   NY 10012                 \n",
       "149   NY 10003                 \n",
       "\n",
       "                                             Hotel_url  \n",
       "0    https://www.yellowpages.com/new-york-ny/mip/mr...  \n",
       "1    https://www.yellowpages.com/new-york-ny/mip/se...  \n",
       "2    https://www.yellowpages.com/new-york-ny/mip/to...  \n",
       "3    https://www.yellowpages.com/new-york-ny/mip/ba...  \n",
       "4    https://www.yellowpages.com/new-york-ny/mip/sp...  \n",
       "..                                                 ...  \n",
       "145  https://www.yellowpages.com/new-york-ny/mip/co...  \n",
       "146  https://www.yellowpages.com/new-york-ny/mip/ry...  \n",
       "147  https://www.yellowpages.com/new-york-ny/mip/jo...  \n",
       "148  https://www.yellowpages.com/new-york-ny/mip/bu...  \n",
       "149  https://www.yellowpages.com/new-york-ny/mip/co...  \n",
       "\n",
       "[150 rows x 6 columns]"
      ]
     },
     "execution_count": 20,
     "metadata": {},
     "output_type": "execute_result"
    }
   ],
   "source": [
    "df_1"
   ]
  },
  {
   "cell_type": "markdown",
   "metadata": {
    "id": "GRTuh1yKMrHP"
   },
   "source": [
    "# **Step:-7cretae one more main function as *get_individual_page_tags()* to loop over the each part-2 tags and return them in datarame format.**"
   ]
  },
  {
   "cell_type": "code",
   "execution_count": 21,
   "metadata": {
    "executionInfo": {
     "elapsed": 13,
     "status": "ok",
     "timestamp": 1658221063319,
     "user": {
      "displayName": "yogeesh tr",
      "userId": "16969771181989430751"
     },
     "user_tz": -330
    },
    "id": "jIyYMtoacW2o"
   },
   "outputs": [],
   "source": [
    "\n",
    "def get_individual_page_tags():\n",
    "  urls_2 = df_1[\"Hotel_url\"]\n",
    "  \n",
    "# Creating an empty lists of tags\n",
    "  Cuisine_tags = []\n",
    "  Payment_tags = []\n",
    "  Neighborhoods_tags =[]\n",
    "\n",
    "  # loop over the each doc\n",
    "  for i in  urls_2:\n",
    "     doc1 = get_url_doc(i)\n",
    "\n",
    "     Cuisine_tags.extend(get_Cuisine(doc1))\n",
    "     Payment_tags.extend(get_payment(doc1))\n",
    "     Neighborhoods_tags.extend(get_neighborhoods(doc1))\n",
    "\n",
    "  time.sleep(random.randint(5,16))        #Script will be stopped for a period of time ranging from 5 to 16 seconds.\n",
    "\n",
    "  # convert the tags into dictionary  \n",
    "  dict_1 = {\"Cuisine\":Cuisine_tags ,\"Payments\":Payment_tags, \"Neighborhoods\":Neighborhoods_tags}\n",
    "    \n",
    "  # converting them into pandas data frame\n",
    "  Final_df2 = pd.DataFrame(dict_1)\n",
    "  \n",
    "  return Final_df2\n",
    "\n",
    "#get_individual_page_tags()\n",
    "\n",
    "\n"
   ]
  },
  {
   "cell_type": "code",
   "execution_count": null,
   "metadata": {
    "id": "O-9ApF_loTpe"
   },
   "outputs": [],
   "source": [
    "#assign the get_individual_page_tags() function as variable df_2\n",
    "df_2 = get_individual_page_tags()"
   ]
  },
  {
   "cell_type": "code",
   "execution_count": null,
   "metadata": {
    "id": "E1BLjVAqocNh"
   },
   "outputs": [],
   "source": [
    "df_2\n"
   ]
  },
  {
   "cell_type": "markdown",
   "metadata": {
    "id": "6dUC7ddeNN48"
   },
   "source": [
    "# **Step:-8 create final main function as scrape_yellowpages() to merge all tags exrtacted from above two main functions return them in csv format**"
   ]
  },
  {
   "cell_type": "code",
   "execution_count": null,
   "metadata": {
    "id": "kF5HSB6jNNZE"
   },
   "outputs": [],
   "source": [
    "def scrape_yellowpages():\n",
    "  Final_df =pd.concat([df_1,df_2],axis = 1 ,join= \"inner\")\n",
    "  return Final_df\n",
    "\n",
    "scrape_yellowpages()"
   ]
  },
  {
   "cell_type": "code",
   "execution_count": null,
   "metadata": {
    "id": "dNMOjGph4lvs"
   },
   "outputs": [],
   "source": [
    "Final_df = scrape_yellowpages()\n",
    "\n",
    "# convret the dataframe into csv file\n",
    "Final_df.to_csv('Scraped_Yellowpages.com_Data_csv',index=False)"
   ]
  },
  {
   "cell_type": "markdown",
   "metadata": {
    "id": "CUAAABkgj_dl"
   },
   "source": [
    "# **Future work**\n",
    "n Feature there is an idea for creating the Database by collecting the data from differnt source of web sites.By collecting and Analysing those data we can get output for following\n",
    "1. Need to scarpe the customer reviews, lat-long of restaurants, price range from the page.\n",
    "2. Need to do EDA project on is demography is realy depends on price oe something els etc\n",
    "3. Is cuisine is depends on neigbhourhood."
   ]
  },
  {
   "cell_type": "markdown",
   "metadata": {
    "id": "KIWzsQ1Yixu4"
   },
   "source": [
    "# **Concluson**\n",
    "I Have tried my bit to explain this was the step-by-step introduction of Web Scraping using BeautifulSoup with Python from the different individuals with the help of suitable tags in html doc we extracted data and stored in the csv files .In addition to this some key points we have to notice below ,these are the pothole where we falls most of the time during coding\n",
    "\n",
    "1. plz read the term and conditions of selected site where they allowing to scarpe our required data.\n",
    "2. select suitable tags through inspecting th eurl page\n",
    "3. In addition to this, be careful to time web requests such that the server is not flooded with traffic at an instant. otherwise if we sends contineous request, they blocked our IP address. to prevent thet we can use **time.sleep()** function to stop a period of time\n",
    "\n",
    "Finnaly by working in this project we can familiar with basic python functions, loops, Tools like Selenium ,Beautifulsoup, Pandas etc."
   ]
  },
  {
   "cell_type": "markdown",
   "metadata": {
    "id": "qG6TIj49lUJz"
   },
   "source": [
    "# **Reference**\n",
    "\n",
    "1.  https://jovian.ai/learn/zero-to-data-analyst-bootcamp/lesson/web-scraping-and-rest-apis\n",
    "2.   https://www.danielherediamejias.com/6-basic-tips-to-perform-web-scraping-with-python/\n",
    "3.  https://www.crummy.com/software/BeautifulSoup/bs4/doc\n",
    "4. https://www.yellowpages.com/\n",
    "\n"
   ]
  },
  {
   "cell_type": "code",
   "execution_count": null,
   "metadata": {
    "id": "aQ_ZWuGmUAN3"
   },
   "outputs": [],
   "source": [
    "!pip install jovian --quiet\n",
    "import jovian"
   ]
  },
  {
   "cell_type": "code",
   "execution_count": null,
   "metadata": {
    "id": "dmBiTqbDmROy"
   },
   "outputs": [],
   "source": [
    "jovian.commit(project=\"Web_Scraping_project\", outputs=\"Scraped_Yellowpages.com_Data_csv\")"
   ]
  }
 ],
 "metadata": {
  "colab": {
   "collapsed_sections": [],
   "name": "Webscraping_Yellowepage_com_Final_report_1.ipynb",
   "provenance": []
  },
  "kernelspec": {
   "display_name": "Python 3 (ipykernel)",
   "language": "python",
   "name": "python3"
  },
  "language_info": {
   "codemirror_mode": {
    "name": "ipython",
    "version": 3
   },
   "file_extension": ".py",
   "mimetype": "text/x-python",
   "name": "python",
   "nbconvert_exporter": "python",
   "pygments_lexer": "ipython3",
   "version": "3.9.6"
  }
 },
 "nbformat": 4,
 "nbformat_minor": 1
}
